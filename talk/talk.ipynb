{
 "cells": [
  {
   "cell_type": "markdown",
   "metadata": {},
   "source": [
    "# Claudette\n",
    "\n",
    "This notebook shows the simplest way to get started with [Claudette](https://claudette.answer.ai/) - a friendly wrapper for Claude AI."
   ]
  },
  {
   "cell_type": "code",
   "execution_count": 1,
   "metadata": {},
   "outputs": [
    {
     "data": {
      "text/plain": [
       "['claude-opus-4-20250514',\n",
       " 'claude-sonnet-4-20250514',\n",
       " 'claude-3-opus-20240229',\n",
       " 'claude-3-7-sonnet-20250219',\n",
       " 'claude-3-5-sonnet-20241022']"
      ]
     },
     "execution_count": 1,
     "metadata": {},
     "output_type": "execute_result"
    }
   ],
   "source": [
    "from claudette import *\n",
    "\n",
    "models"
   ]
  },
  {
   "cell_type": "markdown",
   "metadata": {
    "vscode": {
     "languageId": "raw"
    }
   },
   "source": [
    "## Chat\n"
   ]
  },
  {
   "cell_type": "code",
   "execution_count": 2,
   "metadata": {},
   "outputs": [
    {
     "data": {
      "text/markdown": [
       "I'm Claude, an AI assistant created by Anthropic. How can I help you today?\n",
       "\n",
       "<details>\n",
       "\n",
       "- id: `msg_014YLXrLAyM2bZqkfv6dN4so`\n",
       "- content: `[{'citations': None, 'text': \"I'm Claude, an AI assistant created by Anthropic. How can I help you today?\", 'type': 'text'}]`\n",
       "- model: `claude-3-5-sonnet-20241022`\n",
       "- role: `assistant`\n",
       "- stop_reason: `end_turn`\n",
       "- stop_sequence: `None`\n",
       "- type: `message`\n",
       "- usage: `{'cache_creation_input_tokens': 0, 'cache_read_input_tokens': 0, 'input_tokens': 20, 'output_tokens': 23, 'server_tool_use': None, 'service_tier': 'standard'}`\n",
       "\n",
       "</details>"
      ],
      "text/plain": [
       "Message(id='msg_014YLXrLAyM2bZqkfv6dN4so', content=[TextBlock(citations=None, text=\"I'm Claude, an AI assistant created by Anthropic. How can I help you today?\", type='text')], model='claude-3-5-sonnet-20241022', role='assistant', stop_reason='end_turn', stop_sequence=None, type='message', usage=In: 20; Out: 23; Cache create: 0; Cache read: 0; Total Tokens: 43; Server tool use (web search requests): 0)"
      ]
     },
     "execution_count": 2,
     "metadata": {},
     "output_type": "execute_result"
    }
   ],
   "source": [
    "chat = Chat(model=models[-1], sp=\"You are a helpful assistant.\")\n",
    "\n",
    "r = chat(\"Hello! What's your name?\")\n",
    "r"
   ]
  },
  {
   "cell_type": "markdown",
   "metadata": {},
   "source": [
    "## Tool Use\n",
    "\n",
    "Tools let Claude perform actions like calculations, file operations, or web searches. Here's a simple sum tool example.\n"
   ]
  },
  {
   "cell_type": "code",
   "execution_count": 3,
   "metadata": {},
   "outputs": [],
   "source": [
    "def sums(\n",
    "    a:int,  # First thing to sum\n",
    "    b:int=1 # Second thing to sum\n",
    ") -> int: # The sum of the inputs\n",
    "    \"Adds a + b.\"\n",
    "    print(f\"Finding the sum of {a} and {b}\")\n",
    "    return a + b"
   ]
  },
  {
   "cell_type": "code",
   "execution_count": 4,
   "metadata": {},
   "outputs": [
    {
     "data": {
      "text/plain": [
       "'What is 604542+6458932?'"
      ]
     },
     "execution_count": 4,
     "metadata": {},
     "output_type": "execute_result"
    }
   ],
   "source": [
    "a,b = 604542,6458932\n",
    "pr = f\"What is {a}+{b}?\"\n",
    "pr"
   ]
  },
  {
   "cell_type": "code",
   "execution_count": 5,
   "metadata": {},
   "outputs": [
    {
     "name": "stdout",
     "output_type": "stream",
     "text": [
      "Finding the sum of 604542 and 6458932\n"
     ]
    },
    {
     "data": {
      "text/markdown": [
       "The sum of 604542 and 6458932 is 7063474.\n",
       "\n",
       "<details>\n",
       "\n",
       "- id: `msg_017cvnYyKmiWfWmKheroWXpE`\n",
       "- content: `[{'citations': None, 'text': 'The sum of 604542 and 6458932 is 7063474.', 'type': 'text'}]`\n",
       "- model: `claude-3-5-sonnet-20241022`\n",
       "- role: `assistant`\n",
       "- stop_reason: `end_turn`\n",
       "- stop_sequence: `None`\n",
       "- type: `message`\n",
       "- usage: `{'cache_creation_input_tokens': 0, 'cache_read_input_tokens': 0, 'input_tokens': 536, 'output_tokens': 23, 'server_tool_use': None, 'service_tier': 'standard'}`\n",
       "- steps: `[{'role': 'assistant', 'content': [{'citations': None, 'text': \"I'll help you sum those numbers using the `sums` function.\", 'type': 'text'}, {'id': 'toolu_014Jq4MB8QXyTeuqerRSsnbf', 'input': {'a': 604542, 'b': 6458932}, 'name': 'sums', 'type': 'tool_use'}]}, {'role': 'user', 'content': [{'type': 'tool_result', 'tool_use_id': 'toolu_014Jq4MB8QXyTeuqerRSsnbf', 'content': '7063474'}]}, {'role': 'assistant', 'content': [{'citations': None, 'text': 'The sum of 604542 and 6458932 is 7063474.', 'type': 'text'}]}]`\n",
       "\n",
       "</details>"
      ],
      "text/plain": [
       "Message(id='msg_017cvnYyKmiWfWmKheroWXpE', content=[TextBlock(citations=None, text='The sum of 604542 and 6458932 is 7063474.', type='text')], model='claude-3-5-sonnet-20241022', role='assistant', stop_reason='end_turn', stop_sequence=None, type='message', usage=In: 536; Out: 23; Cache create: 0; Cache read: 0; Total Tokens: 559; Server tool use (web search requests): 0, steps=[{'role': 'assistant', 'content': [{'citations': None, 'text': \"I'll help you sum those numbers using the `sums` function.\", 'type': 'text'}, {'id': 'toolu_014Jq4MB8QXyTeuqerRSsnbf', 'input': {'a': 604542, 'b': 6458932}, 'name': 'sums', 'type': 'tool_use'}]}, {'role': 'user', 'content': [{'type': 'tool_result', 'tool_use_id': 'toolu_014Jq4MB8QXyTeuqerRSsnbf', 'content': '7063474'}]}, {'role': 'assistant', 'content': [{'citations': None, 'text': 'The sum of 604542 and 6458932 is 7063474.', 'type': 'text'}]}])"
      ]
     },
     "execution_count": 5,
     "metadata": {},
     "output_type": "execute_result"
    }
   ],
   "source": [
    "chat = Chat(models[-1], sp='You perform sums', tools=[sums])\n",
    "r = chat.toolloop(pr)\n",
    "r"
   ]
  },
  {
   "cell_type": "markdown",
   "metadata": {},
   "source": [
    "\n",
    "![Sum Tool Example](sum.png)\n",
    "\n"
   ]
  },
  {
   "cell_type": "markdown",
   "metadata": {},
   "source": [
    "## FastHTML Components as Tools\n",
    "\n",
    "In [FastHTML](https://www.fastht.ml/), you can create UI components using pure Python."
   ]
  },
  {
   "cell_type": "code",
   "execution_count": 6,
   "metadata": {},
   "outputs": [
    {
     "data": {
      "text/markdown": [
       "```html\n",
       "<div style=\"border: 1px solid #ccc; padding: 20px; margin: 10px; border-radius: 8px;\">\n",
       "  <h3>Paris</h3>\n",
       "  <p>22°C - Sunny</p>\n",
       "<img src=\"https://cdn-icons-png.flaticon.com/512/869/869869.png\" width=\"100\" height=\"100\"></div>\n",
       "\n",
       "```"
      ],
      "text/plain": [
       "div((h3(('Paris',),{}), p(('22°C - Sunny',),{}), img((),{'src': 'https://cdn-icons-png.flaticon.com/512/869/869869.png', 'width': 100, 'height': 100})),{'style': 'border: 1px solid #ccc; padding: 20px; margin: 10px; border-radius: 8px;'})"
      ]
     },
     "execution_count": 6,
     "metadata": {},
     "output_type": "execute_result"
    }
   ],
   "source": [
    "from fasthtml.common import *\n",
    "\n",
    "def WeatherCard(\n",
    "    location: str,     # The city name\n",
    "    temperature: int,  # Temperature in Celsius  \n",
    "    condition: str     # Weather condition like 'sunny', 'cloudy', 'rainy'\n",
    "):\n",
    "    \"Generate a weather card for a given location, temperature, and condition\"\n",
    "    weather_icons = {\n",
    "        \"sunny\": \"https://cdn-icons-png.flaticon.com/512/869/869869.png\",  # Simple yellow circle\n",
    "        \"cloudy\": \"https://cdn-icons-png.flaticon.com/512/414/414825.png\", # Simple cloud\n",
    "        \"rainy\": \"https://cdn-icons-png.flaticon.com/512/3351/3351979.png\" # Simple rain\n",
    "    }\n",
    "    return Div(\n",
    "        H3(location),\n",
    "        P(f\"{temperature}°C - {condition.capitalize()}\"),\n",
    "        Img(src=weather_icons[condition], width=100, height=100,),\n",
    "        style=\"border: 1px solid #ccc; padding: 20px; margin: 10px; border-radius: 8px;\"\n",
    "    )\n",
    "\n",
    "# Test the component\n",
    "weather_card = WeatherCard(\"Paris\", 22, \"sunny\")\n",
    "weather_card\n"
   ]
  },
  {
   "cell_type": "code",
   "execution_count": 7,
   "metadata": {},
   "outputs": [
    {
     "data": {
      "text/html": [
       "<div style=\"border: 1px solid #ccc; padding: 20px; margin: 10px; border-radius: 8px;\"><h3>Paris</h3><p>22°C - Sunny</p><img src=\"https://cdn-icons-png.flaticon.com/512/869/869869.png\" width=\"100\" height=\"100\"></div>"
      ],
      "text/plain": [
       "<IPython.core.display.HTML object>"
      ]
     },
     "execution_count": 7,
     "metadata": {},
     "output_type": "execute_result"
    }
   ],
   "source": [
    "from IPython.display import HTML\n",
    "HTML(str(weather_card))"
   ]
  },
  {
   "cell_type": "markdown",
   "metadata": {},
   "source": [
    "These same components can also serve as tools for Claude to use in chat!\n"
   ]
  },
  {
   "cell_type": "code",
   "execution_count": 8,
   "metadata": {},
   "outputs": [],
   "source": [
    "from claudette import Client"
   ]
  },
  {
   "cell_type": "code",
   "execution_count": 9,
   "metadata": {},
   "outputs": [
    {
     "data": {
      "text/html": [
       "<div style=\"border: 1px solid #ccc; padding: 20px; margin: 10px; border-radius: 8px;\"><h3>Tokyo</h3><p>24°C - Sunny</p><img src=\"https://cdn-icons-png.flaticon.com/512/869/869869.png\" width=\"100\" height=\"100\"></div>"
      ],
      "text/plain": [
       "<IPython.core.display.HTML object>"
      ]
     },
     "execution_count": 9,
     "metadata": {},
     "output_type": "execute_result"
    }
   ],
   "source": [
    "\n",
    "sp = 'You are a helpful assistant that invents weather for a specific location.'\n",
    "cli = Client(models[-1])\n",
    "\n",
    "r = cli.structured([sp, 'What is the weather in Tokyo?'], tools=[WeatherCard])\n",
    "HTML(str(r[0]))"
   ]
  },
  {
   "cell_type": "markdown",
   "metadata": {},
   "source": [
    "## Weather Demo\n",
    "\n",
    "You can see this concept in action in the weather demo at [weather/main.py](../weather/main.py) \n",
    "\n",
    "Live demo at [fasthtml-app-cbd32e55.pla.sh](https://fasthtml-app-cbd32e55.pla.sh/)\n",
    "\n",
    "\n",
    "\n"
   ]
  }
 ],
 "metadata": {
  "kernelspec": {
   "display_name": ".venv",
   "language": "python",
   "name": "python3"
  },
  "language_info": {
   "codemirror_mode": {
    "name": "ipython",
    "version": 3
   },
   "file_extension": ".py",
   "mimetype": "text/x-python",
   "name": "python",
   "nbconvert_exporter": "python",
   "pygments_lexer": "ipython3",
   "version": "3.12.3"
  }
 },
 "nbformat": 4,
 "nbformat_minor": 2
}
